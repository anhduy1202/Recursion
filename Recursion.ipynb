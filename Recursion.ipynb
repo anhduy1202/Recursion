{
 "cells": [
  {
   "cell_type": "markdown",
   "id": "cd5b171a",
   "metadata": {},
   "source": [
    "# Recursion"
   ]
  },
  {
   "cell_type": "markdown",
   "id": "001d6926",
   "metadata": {},
   "source": [
    "## I. String:"
   ]
  },
  {
   "cell_type": "markdown",
   "id": "f9e1da1a",
   "metadata": {},
   "source": [
    "### Reverse String"
   ]
  },
  {
   "cell_type": "code",
   "execution_count": 1,
   "id": "fb1f2170",
   "metadata": {},
   "outputs": [
    {
     "name": "stdout",
     "output_type": "stream",
     "text": [
      "olleh\n"
     ]
    }
   ],
   "source": [
    "def reverseString(st):\n",
    "    if st == \"\":\n",
    "        return st\n",
    "    return reverseString(st[1:]) + st[0]\n",
    "\n",
    "print(reverseString(\"hello\"))"
   ]
  },
  {
   "cell_type": "markdown",
   "id": "16f685d5",
   "metadata": {},
   "source": [
    "### Palindrome"
   ]
  },
  {
   "cell_type": "code",
   "execution_count": 7,
   "id": "e0e37a5c",
   "metadata": {},
   "outputs": [
    {
     "name": "stdout",
     "output_type": "stream",
     "text": [
      "True\n"
     ]
    }
   ],
   "source": [
    "def isPalindrome(st):\n",
    "    if len(st) == 0 or len(st) == 1:\n",
    "        return True\n",
    "    if st[0] != st[-1]:\n",
    "        return False\n",
    "    return isPalindrome(st[1:-1])\n",
    "\n",
    "print(isPalindrome(\"racecar\"))"
   ]
  },
  {
   "cell_type": "markdown",
   "id": "af70450c",
   "metadata": {},
   "source": [
    "## II. Number"
   ]
  },
  {
   "cell_type": "markdown",
   "id": "ed82a459",
   "metadata": {},
   "source": [
    "### Convert Decimal to Binary"
   ]
  },
  {
   "cell_type": "code",
   "execution_count": 9,
   "id": "0bb1e1a7",
   "metadata": {},
   "outputs": [
    {
     "name": "stdout",
     "output_type": "stream",
     "text": [
      "11001\n"
     ]
    }
   ],
   "source": [
    "def toBinary(num,res):\n",
    "    if num == 0:\n",
    "        return res\n",
    "    res = str(num % 2) + res\n",
    "    return toBinary(num//2,res)\n",
    "\n",
    "print(toBinary(25,\"\"))"
   ]
  },
  {
   "cell_type": "markdown",
   "id": "75ae553c",
   "metadata": {},
   "source": [
    "### Sum Natural Numbers"
   ]
  },
  {
   "cell_type": "code",
   "execution_count": 10,
   "id": "f28009dc",
   "metadata": {},
   "outputs": [
    {
     "name": "stdout",
     "output_type": "stream",
     "text": [
      "210\n"
     ]
    }
   ],
   "source": [
    "def sumNatural(num):\n",
    "    if num == 0:\n",
    "        return num\n",
    "    return sumNatural(num-1) + num\n",
    "\n",
    "print(sumNatural(20))"
   ]
  },
  {
   "cell_type": "markdown",
   "id": "16cafe1a",
   "metadata": {},
   "source": [
    "## III. Array"
   ]
  },
  {
   "cell_type": "markdown",
   "id": "fea5c903",
   "metadata": {},
   "source": [
    "## Merge Sort"
   ]
  },
  {
   "cell_type": "code",
   "execution_count": 31,
   "id": "fd0ea05a",
   "metadata": {},
   "outputs": [
    {
     "ename": "IndexError",
     "evalue": "list index out of range",
     "output_type": "error",
     "traceback": [
      "\u001b[0;31m---------------------------------------------------------------------------\u001b[0m",
      "\u001b[0;31mIndexError\u001b[0m                                Traceback (most recent call last)",
      "Input \u001b[0;32mIn [31]\u001b[0m, in \u001b[0;36m<cell line: 37>\u001b[0;34m()\u001b[0m\n\u001b[1;32m     34\u001b[0m                 k\u001b[38;5;241m+\u001b[39m\u001b[38;5;241m=\u001b[39m\u001b[38;5;241m1\u001b[39m\n\u001b[1;32m     36\u001b[0m res \u001b[38;5;241m=\u001b[39m Solution([\u001b[38;5;241m8\u001b[39m,\u001b[38;5;241m1\u001b[39m,\u001b[38;5;241m4\u001b[39m,\u001b[38;5;241m2\u001b[39m,\u001b[38;5;241m3\u001b[39m,\u001b[38;5;241m6\u001b[39m])\n\u001b[0;32m---> 37\u001b[0m \u001b[43mres\u001b[49m\u001b[38;5;241;43m.\u001b[39;49m\u001b[43msortArray\u001b[49m\u001b[43m(\u001b[49m\u001b[43m[\u001b[49m\u001b[38;5;241;43m8\u001b[39;49m\u001b[43m,\u001b[49m\u001b[38;5;241;43m1\u001b[39;49m\u001b[43m,\u001b[49m\u001b[38;5;241;43m4\u001b[39;49m\u001b[43m,\u001b[49m\u001b[38;5;241;43m2\u001b[39;49m\u001b[43m,\u001b[49m\u001b[38;5;241;43m3\u001b[39;49m\u001b[43m,\u001b[49m\u001b[38;5;241;43m6\u001b[39;49m\u001b[43m]\u001b[49m\u001b[43m)\u001b[49m\n",
      "Input \u001b[0;32mIn [31]\u001b[0m, in \u001b[0;36mSolution.sortArray\u001b[0;34m(self, arr)\u001b[0m\n\u001b[1;32m     10\u001b[0m left \u001b[38;5;241m=\u001b[39m arr[:mid]\n\u001b[1;32m     11\u001b[0m right \u001b[38;5;241m=\u001b[39m arr[mid:]\n\u001b[0;32m---> 12\u001b[0m \u001b[38;5;28;43mself\u001b[39;49m\u001b[38;5;241;43m.\u001b[39;49m\u001b[43msortArray\u001b[49m\u001b[43m(\u001b[49m\u001b[43mleft\u001b[49m\u001b[43m)\u001b[49m\n\u001b[1;32m     13\u001b[0m \u001b[38;5;28mself\u001b[39m\u001b[38;5;241m.\u001b[39msortArray(right)\n\u001b[1;32m     15\u001b[0m i \u001b[38;5;241m=\u001b[39m j \u001b[38;5;241m=\u001b[39m k \u001b[38;5;241m=\u001b[39m \u001b[38;5;241m0\u001b[39m\n",
      "Input \u001b[0;32mIn [31]\u001b[0m, in \u001b[0;36mSolution.sortArray\u001b[0;34m(self, arr)\u001b[0m\n\u001b[1;32m     11\u001b[0m right \u001b[38;5;241m=\u001b[39m arr[mid:]\n\u001b[1;32m     12\u001b[0m \u001b[38;5;28mself\u001b[39m\u001b[38;5;241m.\u001b[39msortArray(left)\n\u001b[0;32m---> 13\u001b[0m \u001b[38;5;28;43mself\u001b[39;49m\u001b[38;5;241;43m.\u001b[39;49m\u001b[43msortArray\u001b[49m\u001b[43m(\u001b[49m\u001b[43mright\u001b[49m\u001b[43m)\u001b[49m\n\u001b[1;32m     15\u001b[0m i \u001b[38;5;241m=\u001b[39m j \u001b[38;5;241m=\u001b[39m k \u001b[38;5;241m=\u001b[39m \u001b[38;5;241m0\u001b[39m\n\u001b[1;32m     17\u001b[0m \u001b[38;5;28;01mwhile\u001b[39;00m i \u001b[38;5;241m<\u001b[39m \u001b[38;5;28mlen\u001b[39m(left) \u001b[38;5;129;01mand\u001b[39;00m j \u001b[38;5;241m<\u001b[39m \u001b[38;5;28mlen\u001b[39m(right):\n",
      "Input \u001b[0;32mIn [31]\u001b[0m, in \u001b[0;36mSolution.sortArray\u001b[0;34m(self, arr)\u001b[0m\n\u001b[1;32m     29\u001b[0m     k\u001b[38;5;241m+\u001b[39m\u001b[38;5;241m=\u001b[39m\u001b[38;5;241m1\u001b[39m\n\u001b[1;32m     31\u001b[0m \u001b[38;5;28;01mwhile\u001b[39;00m j \u001b[38;5;241m<\u001b[39m \u001b[38;5;28mlen\u001b[39m(right):\n\u001b[0;32m---> 32\u001b[0m     arr[k] \u001b[38;5;241m=\u001b[39m \u001b[43mright\u001b[49m\u001b[43m[\u001b[49m\u001b[43mi\u001b[49m\u001b[43m]\u001b[49m\n\u001b[1;32m     33\u001b[0m     j\u001b[38;5;241m+\u001b[39m\u001b[38;5;241m=\u001b[39m\u001b[38;5;241m1\u001b[39m\n\u001b[1;32m     34\u001b[0m     k\u001b[38;5;241m+\u001b[39m\u001b[38;5;241m=\u001b[39m\u001b[38;5;241m1\u001b[39m\n",
      "\u001b[0;31mIndexError\u001b[0m: list index out of range"
     ]
    }
   ],
   "source": [
    "class Solution:\n",
    "    def __init__(self,arr):\n",
    "        self.arr = arr\n",
    "\n",
    "    def sortArray(self,arr):\n",
    "\n",
    "        if len(arr) > 1:\n",
    "            #split the Array\n",
    "            mid = len(arr) // 2\n",
    "            left = arr[:mid]\n",
    "            right = arr[mid:]\n",
    "            self.sortArray(left)\n",
    "            self.sortArray(right)\n",
    "\n",
    "            i = j = k = 0\n",
    "\n",
    "            while i < len(left) and j < len(right):\n",
    "                if left[i] < right[j]:\n",
    "                    arr[k] = left[i]\n",
    "                    i+=1\n",
    "                else:\n",
    "                    arr[k] = right[j]\n",
    "                    j+=1\n",
    "                k+=1\n",
    "\n",
    "            while i < len(left):\n",
    "                arr[k] = left[i]\n",
    "                i+=1\n",
    "                k+=1\n",
    "\n",
    "            while j < len(right):\n",
    "                arr[k] = right[i]\n",
    "                j+=1\n",
    "                k+=1\n",
    "\n",
    "res = Solution([8,1,4,2,3,6])\n",
    "res.sortArray([8,1,4,2,3,6])\n"
   ]
  },
  {
   "cell_type": "code",
   "execution_count": null,
   "id": "df9d8ed3",
   "metadata": {},
   "outputs": [],
   "source": []
  }
 ],
 "metadata": {
  "kernelspec": {
   "display_name": "Python 3 (ipykernel)",
   "language": "python",
   "name": "python3"
  },
  "language_info": {
   "codemirror_mode": {
    "name": "ipython",
    "version": 3
   },
   "file_extension": ".py",
   "mimetype": "text/x-python",
   "name": "python",
   "nbconvert_exporter": "python",
   "pygments_lexer": "ipython3",
   "version": "3.9.12"
  }
 },
 "nbformat": 4,
 "nbformat_minor": 5
}
